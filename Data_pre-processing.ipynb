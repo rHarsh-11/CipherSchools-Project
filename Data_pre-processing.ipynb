{
 "cells": [
  {
   "cell_type": "code",
   "execution_count": 1,
   "id": "a50615a6",
   "metadata": {},
   "outputs": [
    {
     "name": "stdout",
     "output_type": "stream",
     "text": [
      "   CustomerID   Genre  Age  Annual Income (k$)  Spending Score (1-100)\n",
      "0           1    Male   19                  15                      39\n",
      "1           2    Male   21                  15                      81\n",
      "2           3  Female   20                  16                       6\n",
      "3           4  Female   23                  16                      77\n",
      "4           5  Female   31                  17                      40\n",
      "5           6  Female   22                  17                      76\n",
      "6           7  Female   35                  18                       6\n",
      "7           8  Female   23                  18                      94\n",
      "8           9    Male   64                  19                       3\n",
      "9          10  Female   30                  19                      72\n"
     ]
    }
   ],
   "source": [
    "#Importing requierd libraries\n",
    "import pandas as pd\n",
    "import matplotlib.pyplot as plt\n",
    "\n",
    "#Importing the dataset\n",
    "\n",
    "df = pd.read_csv('Mall_Customers.csv')\n",
    "print(df.head(10))"
   ]
  },
  {
   "cell_type": "code",
   "execution_count": 2,
   "id": "91888fae",
   "metadata": {},
   "outputs": [
    {
     "name": "stdout",
     "output_type": "stream",
     "text": [
      "   CustomerID  Gender  Age  Annual Income  Spending Score\n",
      "0           1    Male   19             15              39\n",
      "1           2    Male   21             15              81\n",
      "2           3  Female   20             16               6\n",
      "3           4  Female   23             16              77\n",
      "4           5  Female   31             17              40\n",
      "5           6  Female   22             17              76\n",
      "6           7  Female   35             18               6\n",
      "7           8  Female   23             18              94\n",
      "8           9    Male   64             19               3\n",
      "9          10  Female   30             19              72\n"
     ]
    }
   ],
   "source": [
    "#Renaming names of columns for better understanding and efficient work\n",
    "\n",
    "df.columns = [\"CustomerID\", \"Gender\", \"Age\", \"Annual Income\", \"Spending Score\"]\n",
    "print(df.head(10))"
   ]
  },
  {
   "cell_type": "code",
   "execution_count": 3,
   "id": "4a8c27a9",
   "metadata": {},
   "outputs": [
    {
     "name": "stdout",
     "output_type": "stream",
     "text": [
      "<class 'pandas.core.frame.DataFrame'>\n",
      "RangeIndex: 200 entries, 0 to 199\n",
      "Data columns (total 5 columns):\n",
      " #   Column          Non-Null Count  Dtype \n",
      "---  ------          --------------  ----- \n",
      " 0   CustomerID      200 non-null    int64 \n",
      " 1   Gender          200 non-null    object\n",
      " 2   Age             200 non-null    int64 \n",
      " 3   Annual Income   200 non-null    int64 \n",
      " 4   Spending Score  200 non-null    int64 \n",
      "dtypes: int64(4), object(1)\n",
      "memory usage: 7.9+ KB\n",
      "None\n"
     ]
    }
   ],
   "source": [
    "#Data Preprocessing\n",
    "\n",
    "#1. Check for missing values\n",
    "print(df.info())"
   ]
  },
  {
   "cell_type": "code",
   "execution_count": 4,
   "id": "8e8dc041",
   "metadata": {},
   "outputs": [
    {
     "name": "stdout",
     "output_type": "stream",
     "text": [
      "<class 'pandas.core.frame.DataFrame'>\n",
      "Int64Index: 200 entries, 0 to 199\n",
      "Data columns (total 5 columns):\n",
      " #   Column          Non-Null Count  Dtype \n",
      "---  ------          --------------  ----- \n",
      " 0   CustomerID      200 non-null    int64 \n",
      " 1   Gender          200 non-null    object\n",
      " 2   Age             200 non-null    int64 \n",
      " 3   Annual Income   200 non-null    int64 \n",
      " 4   Spending Score  200 non-null    int64 \n",
      "dtypes: int64(4), object(1)\n",
      "memory usage: 9.4+ KB\n",
      "None\n"
     ]
    }
   ],
   "source": [
    "#2. Remvoving duplicates if present\n",
    "df = df.drop_duplicates()\n",
    "print(df.info())"
   ]
  },
  {
   "cell_type": "code",
   "execution_count": 5,
   "id": "f055dea0",
   "metadata": {},
   "outputs": [
    {
     "data": {
      "image/png": "[encoded data removed]",
      "text/plain": [
       "<Figure size 720x360 with 2 Axes>"
      ]
     },
     "metadata": {
      "needs_background": "light"
     },
     "output_type": "display_data"
    }
   ],
   "source": [
    "#3. Visualizing Outliers if present\n",
    "\n",
    "#Boxplot to visualize outliers in Annual Income column\n",
    "plt.figure(figsize=(10,5))\n",
    "plt.subplot(1,2,1)\n",
    "plt.boxplot(df['Annual Income'])\n",
    "plt.title('Boxplot of Annual Income')\n",
    "\n",
    "#Boxplot to visualize outliers in Spending Score column\n",
    "plt.subplot(1,2,2)\n",
    "plt.boxplot(df['Spending Score'])\n",
    "plt.title('Boxplot of Spending Score')\n",
    "plt.show()"
   ]
  },
  {
   "cell_type": "code",
   "execution_count": 6,
   "id": "9d09ed1c",
   "metadata": {},
   "outputs": [
    {
     "name": "stdout",
     "output_type": "stream",
     "text": [
      "     CustomerID  Gender  Age  Annual Income  Spending Score\n",
      "0             1    Male   19          15.00              39\n",
      "1             2    Male   21          15.00              81\n",
      "2             3  Female   20          16.00               6\n",
      "3             4  Female   23          16.00              77\n",
      "4             5  Female   31          17.00              40\n",
      "..          ...     ...  ...            ...             ...\n",
      "195         196  Female   35         120.00              79\n",
      "196         197  Female   45         126.00              28\n",
      "197         198    Male   32         126.00              74\n",
      "198         199    Male   32         132.75              18\n",
      "199         200    Male   30         132.75              83\n",
      "\n",
      "[200 rows x 5 columns]\n"
     ]
    }
   ],
   "source": [
    "#Handling Outliers by capping them using IQR method\n",
    "\n",
    "for col in ['Annual Income']:\n",
    "    Q1 = df[col].quantile(0.25)\n",
    "    Q3 = df[col].quantile(0.75)\n",
    "    IQR = Q3 - Q1\n",
    "    lower_bound = Q1 - 1.5 * IQR\n",
    "    upper_bound = Q3 + 1.5 * IQR\n",
    "    df[col] = df[col].apply(lambda x: upper_bound if x > upper_bound else (lower_bound if x < lower_bound else x))\n",
    "\n",
    "print(df)"
   ]
  },
  {
   "cell_type": "code",
   "execution_count": 7,
   "id": "5e5f612c",
   "metadata": {},
   "outputs": [
    {
     "name": "stdout",
     "output_type": "stream",
     "text": [
      "   CustomerID  Gender  Age  Annual Income  Spending Score\n",
      "0           1       0   19           15.0              39\n",
      "1           2       0   21           15.0              81\n",
      "2           3       1   20           16.0               6\n",
      "3           4       1   23           16.0              77\n",
      "4           5       1   31           17.0              40\n",
      "5           6       1   22           17.0              76\n",
      "6           7       1   35           18.0               6\n",
      "7           8       1   23           18.0              94\n",
      "8           9       0   64           19.0               3\n",
      "9          10       1   30           19.0              72\n"
     ]
    }
   ],
   "source": [
    "#Data Transformation(Converting categorical variables into numerical forms)\n",
    "\n",
    "df['Gender'] = df['Gender'].map({'Male' : 0, \"Female\" : 1})\n",
    "print(df.head(10))"
   ]
  },
  {
   "cell_type": "code",
   "execution_count": 8,
   "id": "e847ad13",
   "metadata": {},
   "outputs": [],
   "source": [
    "#Exporting Dataset into CSV File\n",
    "df.to_csv('cleaned_mall_customers.csv', header=True, index=False)"
   ]
  },
  {
   "cell_type": "code",
   "execution_count": null,
   "id": "cb50e471",
   "metadata": {},
   "outputs": [],
   "source": []
  }
 ],
 "metadata": {
  "kernelspec": {
   "display_name": "Python 3 (ipykernel)",
   "language": "python",
   "name": "python3"
  },
  "language_info": {
   "codemirror_mode": {
    "name": "ipython",
    "version": 3
   },
   "file_extension": ".py",
   "mimetype": "text/x-python",
   "name": "python",
   "nbconvert_exporter": "python",
   "pygments_lexer": "ipython3",
   "version": "3.9.12"
  }
 },
 "nbformat": 4,
 "nbformat_minor": 5
}
